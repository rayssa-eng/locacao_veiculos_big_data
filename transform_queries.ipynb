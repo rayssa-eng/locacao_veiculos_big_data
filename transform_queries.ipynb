{
 "cells": [
  {
   "cell_type": "code",
   "execution_count": null,
   "metadata": {},
   "outputs": [],
   "source": [
    "transform_m = \"\"\"\n",
    "    SELECT \n",
    "        \n",
    "    FROM cliente"
   ]
  }
 ],
 "metadata": {
  "language_info": {
   "name": "python"
  }
 },
 "nbformat": 4,
 "nbformat_minor": 2
}
