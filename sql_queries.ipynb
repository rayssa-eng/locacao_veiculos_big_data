{
 "cells": [
  {
   "cell_type": "code",
   "execution_count": null,
   "metadata": {},
   "outputs": [],
   "source": [
    "extract_a = ('''\n",
    "  SELECT cd_categoria, nm_categoria, vl_valor_por_dia\n",
    "  FROM categoria;\n",
    "             \n",
    "  SELECT cd_cliente, nm_nome, ds_tipo, cd_cnpj_cpf, ds_endereco, nu_telefone, \n",
    "  FROM cliente;\n",
    "             \n",
    "  SELECT locacao, cliente, fbd_column_3\n",
    "  FROM locacao;\n",
    "             \n",
    "  SELECT categoria, cliente, fbd_column_3\n",
    "  FROM patio;\n",
    "             \n",
    "  SELECT categoria, cliente, fbd_column_3\n",
    "  FROM reserva;\n",
    "             \n",
    "  SELECT categoria, cliente, fbd_column_3\n",
    "  FROM veiculo;\n",
    "''')"
   ]
  }
 ],
 "metadata": {
  "language_info": {
   "name": "python"
  }
 },
 "nbformat": 4,
 "nbformat_minor": 2
}
